{
 "cells": [
  {
   "cell_type": "code",
   "execution_count": 16,
   "metadata": {
    "collapsed": true
   },
   "outputs": [],
   "source": [
    "import os\n",
    "\n",
    "import optuna\n",
    "import diffusers\n",
    "from diffusers import *\n",
    "import torch\n",
    "from glob import glob\n",
    "from diffusers.utils import load_image\n",
    "\n",
    "os.chdir(\"/home/ohada/ProjectBDir\")"
   ]
  },
  {
   "cell_type": "code",
   "execution_count": 17,
   "outputs": [
    {
     "data": {
      "text/plain": "'/home/ohada/DeepProject/DeepProject/ProjectPath/venv/bin/python3'"
     },
     "execution_count": 17,
     "metadata": {},
     "output_type": "execute_result"
    }
   ],
   "source": [
    "import sys\n",
    "sys.executable"
   ],
   "metadata": {
    "collapsed": false
   }
  },
  {
   "cell_type": "code",
   "execution_count": 18,
   "outputs": [],
   "source": [
    "def unclip():\n",
    "    pipe = StableUnCLIPImg2ImgPipeline.from_pretrained(\n",
    "        \"stabilityai/stable-diffusion-2-1-unclip\", torch_dtype=torch.float16, variation=\"fp16\"\n",
    "    )\n",
    "    pipe = pipe.to(\"cuda\")\n",
    "    with torch.no_grad():\n",
    "        images = [load_image(path) for path in sorted(glob(\"horse2zebra/*.jpg\"))]\n",
    "        image_embeds = [pipe._encode_image(\n",
    "                image=(im,),\n",
    "                device=pipe.device,\n",
    "                batch_size=len(images),\n",
    "                num_images_per_prompt=1,\n",
    "                do_classifier_free_guidance=False,\n",
    "                noise_level=torch.zeros((1,), device=\"cuda\", dtype=torch.int),\n",
    "                generator=None,\n",
    "                image_embeds=None,\n",
    "            ) for im in images]\n",
    "        horse_embeds, zebra_embeds = torch.cat(image_embeds).chunk(2, dim=0)\n",
    "        diff = (zebra_embeds[1:] - horse_embeds[1:]).mean(0)\n",
    "\n",
    "        images_zebras = pipe(image_embeds=(horse_embeds[0]+diff)[None, :1024]).images\n",
    "    images_zebras[0].save(\"variation_image.png\")"
   ],
   "metadata": {
    "collapsed": false
   }
  },
  {
   "cell_type": "code",
   "execution_count": 19,
   "outputs": [
    {
     "name": "stderr",
     "output_type": "stream",
     "text": [
      "Keyword arguments {'variation': 'fp16'} are not expected by StableUnCLIPImg2ImgPipeline and will be ignored.\n"
     ]
    },
    {
     "data": {
      "text/plain": "Loading pipeline components...:   0%|          | 0/9 [00:00<?, ?it/s]",
      "application/vnd.jupyter.widget-view+json": {
       "version_major": 2,
       "version_minor": 0,
       "model_id": "da94e2063fc24a0781caa3fec9a7e1a8"
      }
     },
     "metadata": {},
     "output_type": "display_data"
    },
    {
     "data": {
      "text/plain": "  0%|          | 0/21 [00:00<?, ?it/s]",
      "application/vnd.jupyter.widget-view+json": {
       "version_major": 2,
       "version_minor": 0,
       "model_id": "c99cda2409844076b4c9c6dcc41d511b"
      }
     },
     "metadata": {},
     "output_type": "display_data"
    }
   ],
   "source": [
    "unclip()"
   ],
   "metadata": {
    "collapsed": false
   }
  },
  {
   "cell_type": "code",
   "execution_count": null,
   "outputs": [],
   "source": [],
   "metadata": {
    "collapsed": false
   }
  }
 ],
 "metadata": {
  "kernelspec": {
   "display_name": "Python 3",
   "language": "python",
   "name": "python3"
  },
  "language_info": {
   "codemirror_mode": {
    "name": "ipython",
    "version": 2
   },
   "file_extension": ".py",
   "mimetype": "text/x-python",
   "name": "python",
   "nbconvert_exporter": "python",
   "pygments_lexer": "ipython2",
   "version": "2.7.6"
  }
 },
 "nbformat": 4,
 "nbformat_minor": 0
}
